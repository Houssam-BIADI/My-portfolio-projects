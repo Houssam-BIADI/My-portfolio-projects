{
 "cells": [
  {
   "cell_type": "code",
   "execution_count": 1,
   "id": "c3898e0e",
   "metadata": {},
   "outputs": [],
   "source": [
    "import pandas as pd\n",
    "import numpy as np\n",
    "import scipy.stats as stats\n",
    "import re"
   ]
  },
  {
   "cell_type": "code",
   "execution_count": 26,
   "id": "b1357248",
   "metadata": {},
   "outputs": [],
   "source": [
    "#in this project i try to see if there is any link between the win/loss ratio of sport teams and the population of \n",
    "#the population of the city it is in.\n",
    "#the data was gathered from different sources such as Wikepidia and CSV files that can be found in the internet\n"
   ]
  },
  {
   "cell_type": "code",
   "execution_count": 92,
   "id": "12c5055a",
   "metadata": {},
   "outputs": [],
   "source": [
    "link=\"https://en.wikipedia.org/wiki/List_of_American_and_Canadian_cities_by_number_of_major_professional_sports_franchises\"\n",
    "cities=pd.read_html(link)[1]\n",
    "cities=cities.iloc[:-1,[0,3,5,6,7,8]]\n",
    "cities=cities[['Metropolitan area',\"Population (2016 est.)[8]\",'NHL']]\n",
    "cities[\"NHL\"]=cities[\"NHL\"].str.replace('\\[.*\\]','', regex=True)\n",
    "cities=cities[(cities['NHL']!= \"—\")& (cities['NHL']!=\"\")]\n",
    "cities=cities.rename(columns={\"Population (2016 est.)[8]\":\"Population*\",\"NHL\":\"team\"})\n",
    "cities_2=cities[[\"Metropolitan area\",\"Population*\"]]\n",
    "cities_2[\"Population\"]=cities_2[\"Population*\"].apply(lambda x : float(x))\n",
    "cities_2=cities_2.set_index(\"Metropolitan area\")\n",
    "cities_2=cities_2.sort_index()\n",
    "cities_2.drop(\"Seattle\",inplace=True)\n",
    "cities_2=cities_2[\"Population\"]\n"
   ]
  },
  {
   "cell_type": "code",
   "execution_count": 93,
   "id": "02cd675c",
   "metadata": {},
   "outputs": [],
   "source": [
    "nhl_df=pd.read_csv(r\"C:\\Users\\BIADI\\Desktop\\First\\nhl.csv\")\n",
    "nhl_df=nhl_df[nhl_df[\"year\"]==2018]\n",
    "nhl_df.drop([0,9,18,26],inplace=True, axis=0)\n",
    "nhl_df[\"W\"]=nhl_df[\"W\"].apply(lambda x: float(x))\n",
    "nhl_df[\"L\"]=nhl_df[\"L\"].apply(lambda x: float(x))\n",
    "nhl_df[\"Ratio\"]=nhl_df[\"W\"]/(nhl_df[\"W\"]+nhl_df[\"L\"])\n",
    "nhl_df=nhl_df[[\"team\",\"Ratio\"]]\n",
    "nhl_df[\"team\"]=nhl_df[\"team\"].str.replace('\\*','', regex=True)\n",
    "nhl_df[\"team\"]=nhl_df[\"team\"].str.replace('\\w* ','', regex=True)\n",
    "nhl_df = pd.merge(nhl_df,cities,how=\"left\",on='team')\n",
    "nhl_df.loc[[12,14,15], \"Metropolitan area\"]=\"New York City\"\n",
    "nhl_df.loc[[24,26], \"Metropolitan area\"]= \"Los Angeles\"\n",
    "nhl_df.loc[2, \"Metropolitan area\"]=\"Torento\"\n",
    "nhl_df.loc[4, \"Metropolitan area\"]=\"Detroit\"\n",
    "nhl_df.loc[11, \"Metropolitan area\"]=\"Columbus\"\n",
    "nhl_df.loc[20, \"Metropolitan area\"]=\"St. Louis\"\n",
    "nhl_df.loc[23, \"Metropolitan area\"]= \"Las Vegas\"\n",
    "nhl=nhl_df.groupby(\"Metropolitan area\").agg({\"Ratio\":np.mean})\n",
    "nhl=nhl.sort_index()\n",
    "nhl=nhl[\"Ratio\"]\n",
    "(r_nhl,p_nhl)=stats.pearsonr(cities_2, nhl)\n",
    "    \n",
    "    \n"
   ]
  },
  {
   "cell_type": "code",
   "execution_count": 94,
   "id": "d2e75971",
   "metadata": {},
   "outputs": [
    {
     "data": {
      "text/plain": [
       "(28,)"
      ]
     },
     "execution_count": 94,
     "metadata": {},
     "output_type": "execute_result"
    }
   ],
   "source": [
    "link=\"https://en.wikipedia.org/wiki/List_of_American_and_Canadian_cities_by_number_of_major_professional_sports_franchises\"\n",
    "cities=pd.read_html(link)[1]\n",
    "cities=cities.iloc[:-1,[0,3,5,6,7,8]]\n",
    "cities=cities[['Metropolitan area',\"Population (2016 est.)[8]\",'NBA']]\n",
    "cities[\"NBA\"]=cities[\"NBA\"].str.replace('\\[.*\\]','', regex=True)\n",
    "cities=cities[(cities['NBA']!= \"—\")& (cities['NBA']!=\"\")]\n",
    "cities=cities.rename(columns={\"Population (2016 est.)[8]\":\"Population*\",\"NBA\":\"team\"})\n",
    "cities_2=cities[[\"Metropolitan area\",\"Population*\"]]\n",
    "cities_2[\"Population\"]=cities_2[\"Population*\"].apply(lambda x : float(x))\n",
    "cities_2=cities_2.set_index(\"Metropolitan area\")\n",
    "cities_2=cities_2.sort_index()\n",
    "cities_2=cities_2[\"Population\"]\n",
    "cities_2.shape\n"
   ]
  },
  {
   "cell_type": "code",
   "execution_count": 95,
   "id": "05c77997",
   "metadata": {},
   "outputs": [],
   "source": [
    "nba_df=pd.read_csv(r\"C:\\Users\\BIADI\\Desktop\\First\\nba.csv\")\n",
    "nba_df=nba_df[nba_df[\"year\"]==2018]\n",
    "nba_df[\"team\"]=nba_df[\"team\"].str.replace('\\*','', regex=True)\n",
    "nba_df[\"team\"]=nba_df[\"team\"].str.replace('\\(\\w*\\)','', regex=True)\n",
    "nba_df[\"team\"]=nba_df[\"team\"].str.replace('\\w* ','', regex=True)\n",
    "nba_df[\"team\"]=nba_df[\"team\"].apply(lambda x : x.strip())\n",
    "nba_df = pd.merge(nba_df,cities,how=\"left\",on='team')\n",
    "nba_df.loc[[10,11], \"Metropolitan area\"]=\"New York City\"\n",
    "nba_df.loc[[24,25], \"Metropolitan area\"]=\"Los Angeles\"\n",
    "nba_df.loc[17, \"Metropolitan area\"]=\"Portland\"\n",
    "nba_df=nba_df[[\"team\",\"W/L%\",\"Metropolitan area\"]]\n",
    "nba_df[\"W/L%\"]=nba_df[\"W/L%\"].apply(lambda x: float(x))\n",
    "nba=nba_df.groupby(\"Metropolitan area\").agg({\"W/L%\":np.mean})\n",
    "nba=nba.sort_index()\n",
    "nba=nba[\"W/L%\"]\n",
    "(r_nba,p_nba)=stats.pearsonr(cities_2, nba)\n",
    "           "
   ]
  },
  {
   "cell_type": "code",
   "execution_count": 96,
   "id": "f6a2098d",
   "metadata": {},
   "outputs": [
    {
     "data": {
      "text/plain": [
       "(26,)"
      ]
     },
     "execution_count": 96,
     "metadata": {},
     "output_type": "execute_result"
    }
   ],
   "source": [
    "link=\"https://en.wikipedia.org/wiki/List_of_American_and_Canadian_cities_by_number_of_major_professional_sports_franchises\"\n",
    "cities=pd.read_html(link)[1]\n",
    "cities=cities.iloc[:-1,[0,3,5,6,7,8]]\n",
    "cities=cities[['Metropolitan area',\"Population (2016 est.)[8]\",'MLB']]\n",
    "cities[\"MLB\"]=cities[\"MLB\"].str.replace('\\[.*\\]','', regex=True)\n",
    "cities=cities[(cities['MLB']!= \"—\")& (cities['MLB']!=\"\")]\n",
    "cities=cities.rename(columns={\"Population (2016 est.)[8]\":\"Population*\",\"MLB\":\"team\"})\n",
    "cities[\"team\"]=cities[\"team\"].str.replace('(?<!^)[A-Z]\\w*','', regex=True)\n",
    "cities_2=cities[[\"Metropolitan area\",\"Population*\"]]\n",
    "cities_2[\"Population\"]=cities_2[\"Population*\"].apply(lambda x : float(x))\n",
    "cities_2=cities_2.set_index(\"Metropolitan area\")\n",
    "cities_2=cities_2.sort_index()\n",
    "cities_2=cities_2[\"Population\"]\n",
    "cities_2.shape\n"
   ]
  },
  {
   "cell_type": "code",
   "execution_count": 97,
   "id": "43fbda03",
   "metadata": {},
   "outputs": [],
   "source": [
    "mlb_df=pd.read_csv(r\"C:\\Users\\BIADI\\Desktop\\First\\mlb.csv\")\n",
    "mlb_df=mlb_df[mlb_df[\"year\"]==2018]\n",
    "mlb_df[\"team\"]=mlb_df[\"team\"].str.replace('\\*','', regex=True)\n",
    "mlb_df[\"team\"]=mlb_df[\"team\"].str.replace('\\(\\w*\\)','', regex=True)\n",
    "mlb_df[\"team\"]=mlb_df[\"team\"].str.replace('\\w* ','', regex=True)\n",
    "mlb_df[\"team\"]=mlb_df[\"team\"].apply(lambda x : x.strip())\n",
    "mlb_df = pd.merge(mlb_df,cities,how=\"left\",on='team')\n",
    "mlb_df.loc[18, \"Metropolitan area\"]= \"New York City\"\n",
    "mlb_df.loc[8, \"Metropolitan area\"]=\"Chicago\"\n",
    "mlb_df.loc[3, \"Metropolitan area\"]= \"Toronto\"\n",
    "mlb_df.loc[13, \"Metropolitan area\"] =\"Los Angeles\"\n",
    "mlb_df.loc[11, \"Metropolitan area\"] =\"San Francisco Bay Area\"\n",
    "mlb_df.loc[21, \"Metropolitan area\"] =\"Chicago\"\n",
    "mlb_df.loc[22, \"Metropolitan area\"] =\"St. Louis\"\n",
    "mlb_df.loc[22, \"Metropolitan area\"]= \"St. Louis\"\n",
    "mlb_df.loc[0, \"Metropolitan area\"]=\"Boston\"\n",
    "mlb_df=mlb_df[[\"team\",\"W-L%\",\"Metropolitan area\"]]\n",
    "mlb=mlb_df.groupby(\"Metropolitan area\").agg({\"W-L%\":np.mean})\n",
    "mlb=mlb.sort_index()\n",
    "mlb=mlb[\"W-L%\"]\n",
    "(r_mlb,p_mlb)=stats.pearsonr(cities_2,mlb)\n",
    "\n"
   ]
  },
  {
   "cell_type": "code",
   "execution_count": 98,
   "id": "43dcc572",
   "metadata": {},
   "outputs": [
    {
     "data": {
      "text/plain": [
       "(28,)"
      ]
     },
     "execution_count": 98,
     "metadata": {},
     "output_type": "execute_result"
    }
   ],
   "source": [
    "link=\"https://en.wikipedia.org/wiki/List_of_American_and_Canadian_cities_by_number_of_major_professional_sports_franchises\"\n",
    "cities=pd.read_html(link)[1]\n",
    "cities=cities.iloc[:-1,[0,3,5,6,7,8]]\n",
    "cities=cities[['Metropolitan area',\"Population (2016 est.)[8]\",'NFL']]\n",
    "cities[\"NFL\"]=cities[\"NFL\"].str.replace('\\[.*\\]','', regex=True)\n",
    "cities=cities[(cities['NFL']!= \"—\")& (cities['NFL']!=\"\")& (cities['Metropolitan area']!=\"Toronto\")]\n",
    "cities=cities.rename(columns={\"Population (2016 est.)[8]\":\"Population*\",\"NFL\":\"team\"})\n",
    "cities_2=cities[[\"Metropolitan area\",\"Population*\"]]\n",
    "cities_2[\"Population\"]=cities_2[\"Population*\"].apply(lambda x : float(x))\n",
    "cities_2=cities_2.set_index(\"Metropolitan area\")\n",
    "cities_2=cities_2.sort_index()\n",
    "cities_2.drop(\"Las Vegas\",inplace=True)\n",
    "cities_2.drop(\"Washington, D.C.\",inplace=True)\n",
    "cities_2=cities_2[\"Population\"]\n",
    "cities_2.shape"
   ]
  },
  {
   "cell_type": "code",
   "execution_count": 99,
   "id": "d4590e0f",
   "metadata": {},
   "outputs": [],
   "source": [
    "nfl_df=pd.read_csv(r\"C:\\Users\\BIADI\\Desktop\\First\\nfl.csv\")\n",
    "nfl_df=nfl_df[nfl_df[\"year\"]==2018]\n",
    "nfl_df[\"team\"]=nfl_df[\"team\"].str.replace('\\*','', regex=True)\n",
    "nfl_df[\"team\"]=nfl_df[\"team\"].str.replace('\\(\\w*\\)','', regex=True)\n",
    "nfl_df[\"team\"]=nfl_df[\"team\"].str.replace('\\w* ','', regex=True)\n",
    "nfl_df[\"team\"]=nfl_df[\"team\"].str.replace('+','', regex=True)\n",
    "nfl_df[\"team\"]=nfl_df[\"team\"].apply(lambda x : x.strip())\n",
    "nfl_df.drop([0,5,10,15,20,25,30,35],inplace=True, axis=0)\n",
    "nfl_df=nfl_df[[\"W-L%\",\"team\"]]\n",
    "nfl_df = pd.merge(nfl_df,cities,how=\"left\",on='team')\n",
    "nfl_df.loc[3, \"Metropolitan area\"]= \"New York City\"\n",
    "nfl_df.loc[9, \"Metropolitan area\"]= \"Indianapolis\"\n",
    "nfl_df.loc[13, \"Metropolitan area\"]= \"Indianapolis\"\n",
    "nfl_df.loc[15, \"Metropolitan area\"]=\"San Francisco Bay Area\"\n",
    "nfl_df.loc[19, \"Metropolitan area\"]=\"New York City\"\n",
    "nfl_df.loc[28, \"Metropolitan area\"]=\"Los Angeles\"\n",
    "nfl_df.loc[30, \"Metropolitan area\"]=\"San Francisco Bay Area\"\n",
    "nfl_df=nfl_df[[\"team\",\"W-L%\",\"Metropolitan area\"]]\n",
    "nfl_df[\"W-L%\"]=nfl_df[\"W-L%\"].apply(lambda x: float(x))\n",
    "nfl=nfl_df.groupby(\"Metropolitan area\").agg({\"W-L%\":np.mean})\n",
    "nfl=nfl.sort_index()\n",
    "nfl=nfl[\"W-L%\"]\n",
    "(r_nfl,p_nfl)=stats.pearsonr(cities_2,nfl)\n"
   ]
  },
  {
   "cell_type": "code",
   "execution_count": 102,
   "id": "0de422c4",
   "metadata": {},
   "outputs": [
    {
     "data": {
      "text/html": [
       "<div>\n",
       "<style scoped>\n",
       "    .dataframe tbody tr th:only-of-type {\n",
       "        vertical-align: middle;\n",
       "    }\n",
       "\n",
       "    .dataframe tbody tr th {\n",
       "        vertical-align: top;\n",
       "    }\n",
       "\n",
       "    .dataframe thead th {\n",
       "        text-align: right;\n",
       "    }\n",
       "</style>\n",
       "<table border=\"1\" class=\"dataframe\">\n",
       "  <thead>\n",
       "    <tr style=\"text-align: right;\">\n",
       "      <th></th>\n",
       "      <th>NFL</th>\n",
       "      <th>NBA</th>\n",
       "      <th>NHL</th>\n",
       "      <th>MLB</th>\n",
       "    </tr>\n",
       "  </thead>\n",
       "  <tbody>\n",
       "    <tr>\n",
       "      <th>R</th>\n",
       "      <td>0.014609</td>\n",
       "      <td>-0.176364</td>\n",
       "      <td>0.012486</td>\n",
       "      <td>0.150037</td>\n",
       "    </tr>\n",
       "    <tr>\n",
       "      <th>P</th>\n",
       "      <td>0.941182</td>\n",
       "      <td>0.369321</td>\n",
       "      <td>0.949718</td>\n",
       "      <td>0.464428</td>\n",
       "    </tr>\n",
       "  </tbody>\n",
       "</table>\n",
       "</div>"
      ],
      "text/plain": [
       "        NFL       NBA       NHL       MLB\n",
       "R  0.014609 -0.176364  0.012486  0.150037\n",
       "P  0.941182  0.369321  0.949718  0.464428"
      ]
     },
     "execution_count": 102,
     "metadata": {},
     "output_type": "execute_result"
    }
   ],
   "source": [
    "Results = {'NFL': {\"R\": r_nfl, 'P': p_nfl},\n",
    "       'NBA': {\"R\": r_nba, 'P': p_nba},\n",
    "       'NHL': {\"R\": r_nhl, 'P': p_nhl},\n",
    "       'MLB': {\"R\": r_mlb, 'P': p_mlb}\n",
    "      }\n",
    "Results=pd.DataFrame(Results)\n",
    "Results"
   ]
  },
  {
   "cell_type": "code",
   "execution_count": 103,
   "id": "222a0da5",
   "metadata": {},
   "outputs": [],
   "source": [
    "#the results clearly shows that the data is not corralated at all and our P-value is too big to say so"
   ]
  },
  {
   "cell_type": "code",
   "execution_count": 110,
   "id": "f56e53ad",
   "metadata": {},
   "outputs": [],
   "source": [
    "#now we will try to to explore the hypothesis that : given that an area has two sports teams in different sports, those teams will perform the same within their respective sports."
   ]
  },
  {
   "cell_type": "code",
   "execution_count": 109,
   "id": "b2d23e69",
   "metadata": {},
   "outputs": [
    {
     "data": {
      "text/html": [
       "<div>\n",
       "<style scoped>\n",
       "    .dataframe tbody tr th:only-of-type {\n",
       "        vertical-align: middle;\n",
       "    }\n",
       "\n",
       "    .dataframe tbody tr th {\n",
       "        vertical-align: top;\n",
       "    }\n",
       "\n",
       "    .dataframe thead th {\n",
       "        text-align: right;\n",
       "    }\n",
       "</style>\n",
       "<table border=\"1\" class=\"dataframe\">\n",
       "  <thead>\n",
       "    <tr style=\"text-align: right;\">\n",
       "      <th></th>\n",
       "      <th>NFL</th>\n",
       "      <th>NBA</th>\n",
       "      <th>NHL</th>\n",
       "      <th>MLB</th>\n",
       "    </tr>\n",
       "  </thead>\n",
       "  <tbody>\n",
       "    <tr>\n",
       "      <th>NFL</th>\n",
       "      <td>NaN</td>\n",
       "      <td>0.786997</td>\n",
       "      <td>0.060695</td>\n",
       "      <td>0.725645</td>\n",
       "    </tr>\n",
       "    <tr>\n",
       "      <th>NBA</th>\n",
       "      <td>0.786997</td>\n",
       "      <td>NaN</td>\n",
       "      <td>0.011348</td>\n",
       "      <td>0.949566</td>\n",
       "    </tr>\n",
       "    <tr>\n",
       "      <th>NHL</th>\n",
       "      <td>0.060695</td>\n",
       "      <td>0.011348</td>\n",
       "      <td>NaN</td>\n",
       "      <td>0.001572</td>\n",
       "    </tr>\n",
       "    <tr>\n",
       "      <th>MLB</th>\n",
       "      <td>0.725645</td>\n",
       "      <td>0.949566</td>\n",
       "      <td>0.001572</td>\n",
       "      <td>NaN</td>\n",
       "    </tr>\n",
       "  </tbody>\n",
       "</table>\n",
       "</div>"
      ],
      "text/plain": [
       "          NFL       NBA       NHL       MLB\n",
       "NFL       NaN  0.786997  0.060695  0.725645\n",
       "NBA  0.786997       NaN  0.011348  0.949566\n",
       "NHL  0.060695  0.011348       NaN  0.001572\n",
       "MLB  0.725645  0.949566  0.001572       NaN"
      ]
     },
     "execution_count": 109,
     "metadata": {},
     "output_type": "execute_result"
    }
   ],
   "source": [
    "nfl=pd.DataFrame(nfl)\n",
    "mlb=pd.DataFrame(mlb)\n",
    "nba=pd.DataFrame(nba)\n",
    "nhl=pd.DataFrame(nhl)\n",
    "nfl=nfl.rename(columns={\"W-L%\":\"Ratio\"})\n",
    "mlb=mlb.rename(columns={\"W-L%\":\"Ratio\"})\n",
    "nba=nba.rename(columns={\"W/L%\":\"Ratio\"})\n",
    "nba_nfl = pd.merge(nba,nfl, on='Metropolitan area')\n",
    "pval_nba_nfl = stats.ttest_rel(nba_nfl['Ratio_x'],nba_nfl['Ratio_y'])[1]\n",
    "nba_nhl = pd.merge(nba,nhl, on='Metropolitan area')\n",
    "pval_nba_nhl = stats.ttest_rel(nba_nhl['Ratio_x'],nba_nhl['Ratio_y'])[1]\n",
    "mlb_nfl = pd.merge(mlb,nfl, on='Metropolitan area')\n",
    "pval_mlb_nfl = stats.ttest_rel(mlb_nfl['Ratio_x'],mlb_nfl['Ratio_y'])[1]\n",
    "mlb_nhl = pd.merge(mlb,nhl, on='Metropolitan area')\n",
    "pval_mlb_nhl = stats.ttest_rel(mlb_nhl['Ratio_x'],mlb_nhl['Ratio_y'])[1]\n",
    "mlb_nba = pd.merge(mlb,nba, on='Metropolitan area')\n",
    "pval_mlb_nba = stats.ttest_rel(mlb_nba['Ratio_x'],mlb_nba['Ratio_y'])[1]\n",
    "nhl_nfl = pd.merge(nhl,nfl, on='Metropolitan area')\n",
    "pval_nhl_nfl = stats.ttest_rel(nhl_nfl['Ratio_x'],nhl_nfl['Ratio_y'])[1]\n",
    "pv = {'NFL': {\"NFL\": np.nan, 'NBA': pval_nba_nfl, 'NHL': pval_nhl_nfl, 'MLB': pval_mlb_nfl},\n",
    "       'NBA': {\"NFL\": pval_nba_nfl, 'NBA': np.nan, 'NHL': pval_nba_nhl, 'MLB': pval_mlb_nba},\n",
    "       'NHL': {\"NFL\": pval_nhl_nfl, 'NBA': pval_nba_nhl, 'NHL': np.nan, 'MLB': pval_mlb_nhl},\n",
    "       'MLB': {\"NFL\": pval_mlb_nfl, 'NBA': pval_mlb_nba, 'NHL': pval_mlb_nhl,'MLB': np.nan}\n",
    "      } \n",
    "               \n",
    "p_values = pd.DataFrame(pv)\n",
    "p_values"
   ]
  },
  {
   "cell_type": "code",
   "execution_count": null,
   "id": "e0696ab6",
   "metadata": {},
   "outputs": [],
   "source": [
    "#the only signeficant value of p was the one between MLB and NHL, the other values of P make us reject this hypothesis"
   ]
  }
 ],
 "metadata": {
  "kernelspec": {
   "display_name": "Python 3",
   "language": "python",
   "name": "python3"
  },
  "language_info": {
   "codemirror_mode": {
    "name": "ipython",
    "version": 3
   },
   "file_extension": ".py",
   "mimetype": "text/x-python",
   "name": "python",
   "nbconvert_exporter": "python",
   "pygments_lexer": "ipython3",
   "version": "3.8.8"
  }
 },
 "nbformat": 4,
 "nbformat_minor": 5
}
