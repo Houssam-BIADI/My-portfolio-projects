{
 "cells": [
  {
   "cell_type": "code",
   "execution_count": null,
   "id": "1de1e65c",
   "metadata": {},
   "outputs": [],
   "source": [
    "#in this project, i will try to anaylize a dataset of the global average sea level change since 1880. and i will use  use the data to predict the sea level change through year 2050."
   ]
  },
  {
   "cell_type": "code",
   "execution_count": 1,
   "id": "434e9c22",
   "metadata": {},
   "outputs": [],
   "source": [
    "import pandas as pd\n",
    "import matplotlib.pyplot as plt\n",
    "from scipy.stats import linregress"
   ]
  },
  {
   "cell_type": "code",
   "execution_count": 6,
   "id": "8a25b13d",
   "metadata": {},
   "outputs": [
    {
     "data": {
      "text/html": [
       "<div>\n",
       "<style scoped>\n",
       "    .dataframe tbody tr th:only-of-type {\n",
       "        vertical-align: middle;\n",
       "    }\n",
       "\n",
       "    .dataframe tbody tr th {\n",
       "        vertical-align: top;\n",
       "    }\n",
       "\n",
       "    .dataframe thead th {\n",
       "        text-align: right;\n",
       "    }\n",
       "</style>\n",
       "<table border=\"1\" class=\"dataframe\">\n",
       "  <thead>\n",
       "    <tr style=\"text-align: right;\">\n",
       "      <th></th>\n",
       "      <th>Year</th>\n",
       "      <th>CSIRO Adjusted Sea Level</th>\n",
       "      <th>Lower Error Bound</th>\n",
       "      <th>Upper Error Bound</th>\n",
       "      <th>NOAA Adjusted Sea Level</th>\n",
       "    </tr>\n",
       "  </thead>\n",
       "  <tbody>\n",
       "    <tr>\n",
       "      <th>129</th>\n",
       "      <td>2009</td>\n",
       "      <td>8.586614</td>\n",
       "      <td>8.311024</td>\n",
       "      <td>8.862205</td>\n",
       "      <td>8.046354</td>\n",
       "    </tr>\n",
       "    <tr>\n",
       "      <th>130</th>\n",
       "      <td>2010</td>\n",
       "      <td>8.901575</td>\n",
       "      <td>8.618110</td>\n",
       "      <td>9.185039</td>\n",
       "      <td>8.122973</td>\n",
       "    </tr>\n",
       "    <tr>\n",
       "      <th>131</th>\n",
       "      <td>2011</td>\n",
       "      <td>8.964567</td>\n",
       "      <td>8.661417</td>\n",
       "      <td>9.267717</td>\n",
       "      <td>8.053065</td>\n",
       "    </tr>\n",
       "    <tr>\n",
       "      <th>132</th>\n",
       "      <td>2012</td>\n",
       "      <td>9.326772</td>\n",
       "      <td>8.992126</td>\n",
       "      <td>9.661417</td>\n",
       "      <td>8.457058</td>\n",
       "    </tr>\n",
       "    <tr>\n",
       "      <th>133</th>\n",
       "      <td>2013</td>\n",
       "      <td>8.980315</td>\n",
       "      <td>8.622047</td>\n",
       "      <td>9.338583</td>\n",
       "      <td>8.546648</td>\n",
       "    </tr>\n",
       "  </tbody>\n",
       "</table>\n",
       "</div>"
      ],
      "text/plain": [
       "     Year  CSIRO Adjusted Sea Level  Lower Error Bound  Upper Error Bound  \\\n",
       "129  2009                  8.586614           8.311024           8.862205   \n",
       "130  2010                  8.901575           8.618110           9.185039   \n",
       "131  2011                  8.964567           8.661417           9.267717   \n",
       "132  2012                  9.326772           8.992126           9.661417   \n",
       "133  2013                  8.980315           8.622047           9.338583   \n",
       "\n",
       "     NOAA Adjusted Sea Level  \n",
       "129                 8.046354  \n",
       "130                 8.122973  \n",
       "131                 8.053065  \n",
       "132                 8.457058  \n",
       "133                 8.546648  "
      ]
     },
     "execution_count": 6,
     "metadata": {},
     "output_type": "execute_result"
    }
   ],
   "source": [
    "df=pd.read_csv(r\"C:\\Users\\BIADI\\Desktop\\First\\third\\epa-sea-level.csv\")\n",
    "df.tail()"
   ]
  },
  {
   "cell_type": "code",
   "execution_count": 7,
   "id": "47fbe373",
   "metadata": {},
   "outputs": [
    {
     "data": {
      "text/plain": [
       "Text(0.5, 1.0, 'Rise in Sea Level')"
      ]
     },
     "execution_count": 7,
     "metadata": {},
     "output_type": "execute_result"
    },
    {
     "data": {
      "image/png": "[encoded data removed]",
      "text/plain": [
       "<Figure size 432x288 with 1 Axes>"
      ]
     },
     "metadata": {
      "needs_background": "light"
     },
     "output_type": "display_data"
    }
   ],
   "source": [
    "#first we try to make our prediction using all the data \n",
    "x=df[\"Year\"]\n",
    "y=df[\"CSIRO Adjusted Sea Level\"]\n",
    "fig,ax=plt.subplots()\n",
    "plt.scatter(x, y)\n",
    "slope, intercept, r_value, p_value, std_err = linregress(df[\"Year\"],df[\"CSIRO Adjusted Sea Level\"])\n",
    "x_new=pd.Series([i for i in range(1880,2051)])\n",
    "y_new=slope*x_new+intercept\n",
    "plt.plot(x_new, y_new, \"r\")\n",
    "ax.set_xlabel(\"Year\")\n",
    "ax.set_ylabel(\"Sea Level (inches)\")\n",
    "ax.set_title('Rise in Sea Level')"
   ]
  },
  {
   "cell_type": "code",
   "execution_count": 9,
   "id": "3f66d9c0",
   "metadata": {},
   "outputs": [
    {
     "data": {
      "text/plain": [
       "Text(0.5, 1.0, 'Rise in Sea Level')"
      ]
     },
     "execution_count": 9,
     "metadata": {},
     "output_type": "execute_result"
    },
    {
     "data": {
      "image/png": "[encoded data removed]",
      "text/plain": [
       "<Figure size 432x288 with 1 Axes>"
      ]
     },
     "metadata": {
      "needs_background": "light"
     },
     "output_type": "display_data"
    }
   ],
   "source": [
    "#now we try to make our prediction using data from 2000 to 2013\n",
    "x=df[\"Year\"]\n",
    "y=df[\"CSIRO Adjusted Sea Level\"]\n",
    "fig,ax=plt.subplots()\n",
    "plt.scatter(x, y)\n",
    "df_2000=df.loc[df[\"Year\"]>=2000]\n",
    "x_2000=df_2000[\"Year\"]\n",
    "y_2000=df_2000[\"CSIRO Adjusted Sea Level\"]\n",
    "slope, intercept, r_value, p_value, std_err = linregress(df_2000[\"Year\"],df_2000[\"CSIRO Adjusted Sea Level\"])\n",
    "x_new2=pd.Series([i for i in range(2000,2051)])\n",
    "y_new2=slope*x_new2 +intercept\n",
    "plt.plot(x_new2, y_new2, \"green\")\n",
    "ax.set_xlabel(\"Year\")\n",
    "ax.set_ylabel(\"Sea Level (inches)\")\n",
    "ax.set_title('Rise in Sea Level')"
   ]
  },
  {
   "cell_type": "code",
   "execution_count": 10,
   "id": "4dcbde3e",
   "metadata": {},
   "outputs": [
    {
     "data": {
      "text/plain": [
       "Text(0.5, 1.0, 'Rise in Sea Level')"
      ]
     },
     "execution_count": 10,
     "metadata": {},
     "output_type": "execute_result"
    },
    {
     "data": {
      "image/png": "[encoded data removed]",
      "text/plain": [
       "<Figure size 432x288 with 1 Axes>"
      ]
     },
     "metadata": {
      "needs_background": "light"
     },
     "output_type": "display_data"
    }
   ],
   "source": [
    "#now we can compare between the two lines\n",
    "x=df[\"Year\"]\n",
    "y=df[\"CSIRO Adjusted Sea Level\"]\n",
    "fig,ax=plt.subplots()\n",
    "plt.scatter(x, y)\n",
    "slope, intercept, r_value, p_value, std_err = linregress(df[\"Year\"],df[\"CSIRO Adjusted Sea Level\"])\n",
    "x_new=pd.Series([i for i in range(1880,2051)])\n",
    "y_new=slope*x_new+intercept\n",
    "plt.plot(x_new, y_new, \"r\")\n",
    "df_2000=df.loc[df[\"Year\"]>=2000]\n",
    "x_2000=df_2000[\"Year\"]\n",
    "y_2000=df_2000[\"CSIRO Adjusted Sea Level\"]\n",
    "slope, intercept, r_value, p_value, std_err = linregress(df_2000[\"Year\"],df_2000[\"CSIRO Adjusted Sea Level\"])\n",
    "x_new2=pd.Series([i for i in range(2000,2051)])\n",
    "y_new2=slope*x_new2 +intercept\n",
    "plt.plot(x_new2, y_new2, \"green\")\n",
    "ax.set_xlabel(\"Year\")\n",
    "ax.set_ylabel(\"Sea Level (inches)\")\n",
    "ax.set_title('Rise in Sea Level')\n"
   ]
  },
  {
   "cell_type": "code",
   "execution_count": null,
   "id": "4455589b",
   "metadata": {},
   "outputs": [],
   "source": []
  }
 ],
 "metadata": {
  "kernelspec": {
   "display_name": "Python 3",
   "language": "python",
   "name": "python3"
  },
  "language_info": {
   "codemirror_mode": {
    "name": "ipython",
    "version": 3
   },
   "file_extension": ".py",
   "mimetype": "text/x-python",
   "name": "python",
   "nbconvert_exporter": "python",
   "pygments_lexer": "ipython3",
   "version": "3.8.8"
  }
 },
 "nbformat": 4,
 "nbformat_minor": 5
}
